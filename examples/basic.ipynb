{
 "cells": [
  {
   "cell_type": "markdown",
   "source": [
    "# Basic Example"
   ],
   "metadata": {
    "collapsed": false
   }
  },
  {
   "cell_type": "markdown",
   "source": [
    "In this tutorial we will analyze all the options of the memprofiler extension while performing operations on numpy arrays. So let's get started!"
   ],
   "metadata": {
    "collapsed": false
   }
  },
  {
   "cell_type": "code",
   "execution_count": null,
   "outputs": [],
   "source": [
    "import numpy as np\n",
    "\n",
    "shape = (3000, 3000)\n",
    "a = np.linspace(0, 1, np.prod(shape)).reshape(shape)\n",
    "b = a.copy()\n",
    "c = a.copy()"
   ],
   "metadata": {
    "collapsed": false,
    "pycharm": {
     "name": "#%%\n"
    }
   }
  },
  {
   "cell_type": "markdown",
   "source": [
    "To use the memprofiler extension in a Jupyter notebook, we just have to run"
   ],
   "metadata": {
    "collapsed": false
   }
  },
  {
   "cell_type": "code",
   "execution_count": null,
   "outputs": [],
   "source": [
    "%load_ext memprofiler"
   ],
   "metadata": {
    "collapsed": false,
    "pycharm": {
     "name": "#%%\n"
    }
   }
  },
  {
   "cell_type": "markdown",
   "source": [
    "## Start sampling memory"
   ],
   "metadata": {
    "collapsed": false
   }
  },
  {
   "cell_type": "markdown",
   "source": [
    "If we want to perform memory measurements on a cell, we have to use mprof_run command. In the following cells, we are going to analyze memory consumption while performing various evaluations of numpy expressions.\n",
    "\n",
    "First of all, we are going to use the mprof_run in the most basic way. We simply have to assign an identifier (label) to save the results. On the screen, it will show us the final memory consumption and the peak reached during the execution."
   ],
   "metadata": {
    "collapsed": false
   }
  },
  {
   "cell_type": "code",
   "execution_count": null,
   "outputs": [],
   "source": [
    "%%mprof_run expr_simple\n",
    "\n",
    "_ = a + b"
   ],
   "metadata": {
    "collapsed": false,
    "pycharm": {
     "name": "#%%\n"
    }
   }
  },
  {
   "cell_type": "markdown",
   "source": [
    "By default, the sampling interval is 0.01. However, sometimes it can be useful to use another sampling interval. We can set it with the --interval option."
   ],
   "metadata": {
    "collapsed": false
   }
  },
  {
   "cell_type": "code",
   "execution_count": null,
   "outputs": [],
   "source": [
    "%%mprof_run --interval 0.002 expr_trans1\n",
    "\n",
    "_ = np.cos(a) + np.sqrt(c)"
   ],
   "metadata": {
    "collapsed": false,
    "pycharm": {
     "name": "#%%\n"
    }
   }
  },
  {
   "cell_type": "markdown",
   "source": [
    "Finally, we can also get a plot of the memory usage profile with the --plot option. With this option enabled, a simple plot of the memory will be rendered when the cell finishes executing."
   ],
   "metadata": {
    "collapsed": false
   }
  },
  {
   "cell_type": "code",
   "execution_count": null,
   "outputs": [],
   "source": [
    "%%mprof_run --plot expr_trans2\n",
    "\n",
    "_ = np.sin(b) / np.cos(a) + np.arctan(c + 2)"
   ],
   "metadata": {
    "collapsed": false,
    "pycharm": {
     "name": "#%%\n"
    }
   }
  },
  {
   "cell_type": "markdown",
   "source": [
    "## Plot multiple memory profiles at once"
   ],
   "metadata": {
    "collapsed": false
   }
  },
  {
   "cell_type": "markdown",
   "source": [
    "Although with the mprof_run we can already obtain basic plots, the mprof_plot command allows us to obtain more sophisticated plots.\n",
    "\n",
    "If we simply pass to mprof_plot the identifier of a memory profile, we will obtain the same plot that is rendered when the mprof_run is executed with the --plot option."
   ],
   "metadata": {
    "collapsed": false
   }
  },
  {
   "cell_type": "code",
   "execution_count": null,
   "outputs": [],
   "source": [
    "%mprof_plot expr_trans2"
   ],
   "metadata": {
    "collapsed": false,
    "pycharm": {
     "name": "#%%\n"
    }
   }
  },
  {
   "cell_type": "markdown",
   "source": [
    "The main functionality offered by this extension is that it can combine different profiles in the same plot. To do this, we have to pass all the identifiers of the memory profiles that we want to compare (regular expressions are supported)."
   ],
   "metadata": {
    "collapsed": false
   }
  },
  {
   "cell_type": "code",
   "execution_count": null,
   "outputs": [],
   "source": [
    "%mprof_plot expr_trans.* expr_simple"
   ],
   "metadata": {
    "collapsed": false,
    "pycharm": {
     "name": "#%%\n"
    }
   }
  },
  {
   "cell_type": "markdown",
   "source": [
    "This extension also supports plot title customization. We simply have to set our title with the --title option."
   ],
   "metadata": {
    "collapsed": false
   }
  },
  {
   "cell_type": "code",
   "execution_count": null,
   "outputs": [],
   "source": [
    "%mprof_plot --title \"Numpy Trigonometric Functions\" expr_trans.*\n"
   ],
   "metadata": {
    "collapsed": false,
    "pycharm": {
     "name": "#%%\n"
    }
   }
  },
  {
   "cell_type": "code",
   "execution_count": null,
   "outputs": [],
   "source": [],
   "metadata": {
    "collapsed": false,
    "pycharm": {
     "name": "#%%\n"
    }
   }
  }
 ],
 "metadata": {
  "kernelspec": {
   "display_name": "Python 3",
   "language": "python",
   "name": "python3"
  },
  "language_info": {
   "codemirror_mode": {
    "name": "ipython",
    "version": 3
   },
   "file_extension": ".py",
   "mimetype": "text/x-python",
   "name": "python",
   "nbconvert_exporter": "python",
   "pygments_lexer": "ipython3",
   "version": "3.8.5"
  }
 },
 "nbformat": 4,
 "nbformat_minor": 1
}